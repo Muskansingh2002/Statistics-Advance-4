{
 "cells": [
  {
   "cell_type": "markdown",
   "id": "395b7955-a301-4055-8c7c-1c19aacb64ca",
   "metadata": {},
   "source": [
    "Q1: What is the difference between a t-test and a z-test? Provide an example scenario where you would\n",
    "use each type of test."
   ]
  },
  {
   "cell_type": "markdown",
   "id": "3cdbf764-d5b4-46a9-bca9-e6a0cc046e47",
   "metadata": {},
   "source": [
    "Ans:\n",
    "    \n",
    "Difference Between a T-Test and a Z-Test:\n",
    "\n",
    "Z-Test: Use when the population standard deviation is known and/or the sample size is large.\n",
    "\n",
    "T-Test: Use when the population standard deviation is unknown and/or the sample size is small.\n",
    "\n",
    "Z-Test Example:\n",
    "\n",
    "Scenario: A factory produces light bulbs that are supposed to last 1000 hours on average. The population standard deviation is known to be 100 hours. To check if a new production process has changed the average lifespan, a random sample of 50 light bulbs is tested.\n",
    "\n",
    "Application: Since the population standard deviation is known and the sample size is large (n=50), a z-test would be appropriate to compare the sample mean to the population mean of 1000 hours.\n",
    "\n",
    "T-Test Example:\n",
    "\n",
    "Scenario: A researcher wants to determine if a new drug lowers blood pressure more effectively than the existing drug. They conduct a study with 15 patients for each drug and record the decrease in blood pressure.\n",
    "\n",
    "Application: Since the population standard deviation is unknown and the sample size is small (n=15 for each group), a t-test would be appropriate to compare the means of the two samples."
   ]
  },
  {
   "cell_type": "code",
   "execution_count": null,
   "id": "01686a9c-3283-49b9-acb3-e88d29d993f0",
   "metadata": {},
   "outputs": [],
   "source": []
  },
  {
   "cell_type": "markdown",
   "id": "19bcb481-c6a4-40f9-8d34-a4d15b8a4ddf",
   "metadata": {},
   "source": [
    "Q2: Differentiate between one-tailed and two-tailed tests."
   ]
  },
  {
   "cell_type": "markdown",
   "id": "81a33519-e52e-4adb-90b9-2831c52f3a46",
   "metadata": {},
   "source": [
    "Ans:\n",
    "    \n",
    "One-Tailed Test:\n",
    "\n",
    "Tests for an effect in a specific direction.\n",
    "\n",
    "Entire α is in one tail.\n",
    "\n",
    "Example: Testing if a new process decreases battery life.\n",
    "\n",
    "Two-Tailed Test:\n",
    "\n",
    "Tests for an effect in both directions.\n",
    "\n",
    "α is split between two tails.\n",
    "\n",
    "Example: Testing if a new drug has a different effect on blood pressure compared to an existing drug."
   ]
  },
  {
   "cell_type": "code",
   "execution_count": null,
   "id": "965a5f5a-f9de-4ece-9fa9-13dd97a69b40",
   "metadata": {},
   "outputs": [],
   "source": []
  },
  {
   "cell_type": "markdown",
   "id": "1890742a-d0ce-4d0f-8991-1a0c66b16895",
   "metadata": {},
   "source": [
    "Q3: Explain the concept of Type 1 and Type 2 errors in hypothesis testing. Provide an example scenario for\n",
    "each type of error."
   ]
  },
  {
   "cell_type": "markdown",
   "id": "705f68c2-e824-4d7f-8db2-64acc0d8ec8e",
   "metadata": {},
   "source": [
    "Ans:\n",
    "    \n",
    "Type 1 Error (α):\n",
    "\n",
    "Incorrectly rejecting a true null hypothesis.\n",
    "\n",
    "Example: Concluding a new drug is effective when it is not.\n",
    "\n",
    "Type 2 Error (β):\n",
    "\n",
    "Failing to reject a false null hypothesis.\n",
    "\n",
    "Example: Concluding a batch of light bulbs meets the lifespan requirement when it does not."
   ]
  },
  {
   "cell_type": "code",
   "execution_count": null,
   "id": "db1b6819-73c3-459f-b00d-462a648a0786",
   "metadata": {},
   "outputs": [],
   "source": []
  },
  {
   "cell_type": "markdown",
   "id": "34bb32c3-ec74-4210-aa5b-7d173c574ee0",
   "metadata": {},
   "source": [
    "Q4: Explain Bayes's theorem with an example."
   ]
  },
  {
   "cell_type": "markdown",
   "id": "8325a46e-1261-466c-b396-0fac347f43cd",
   "metadata": {},
   "source": [
    "Ans:\n",
    "    \n",
    "Bayes's Theorem:\n",
    "\n",
    "Bayes's theorem is a fundamental concept in probability theory and statistics that describes the probability of an event based on prior knowledge of conditions related to the event.\n",
    "\n",
    "Example Scenario\n",
    "\n",
    "Scenario:\n",
    "\n",
    "Suppose a medical test is used to diagnose a rare disease. The disease affects 1% of the population. The test has the following properties:\n",
    "\n",
    "True Positive Rate (Sensitivity): 99% (the probability that the test correctly identifies a person with the disease).\n",
    "\n",
    "False Positive Rate: 5% (the probability that the test incorrectly identifies a person without the disease as having the disease)."
   ]
  },
  {
   "cell_type": "code",
   "execution_count": null,
   "id": "ca16cb77-3aaa-4978-93ac-2e191065ec52",
   "metadata": {},
   "outputs": [],
   "source": []
  },
  {
   "cell_type": "markdown",
   "id": "89950c4d-d0ea-4d2f-b75c-f0daf0fc2c5d",
   "metadata": {},
   "source": [
    "Q5: What is a confidence interval? How to calculate the confidence interval, explain with an example."
   ]
  },
  {
   "cell_type": "markdown",
   "id": "4fbaa309-c3f4-401b-9759-e5aeea2481f2",
   "metadata": {},
   "source": [
    "Ans:\n",
    "What is a Confidence Interval?\n",
    "\n",
    "A confidence interval (CI) is a range of values that is used to estimate the true value of a population parameter (such as a population mean or proportion) with a certain level of confidence. It provides an interval within which we expect the true parameter to fall a specified percentage of the time (e.g., 95%).\n",
    "\n",
    "How to Calculate a Confidence Interval:\n",
    "\n",
    "The formula for calculating a confidence interval for the population mean when the population standard deviation is unknown is:\n",
    "\n",
    "Example Calculation:\n",
    "\n",
    "Scenario:\n",
    "\n",
    "A researcher wants to estimate the average height of a certain species of plant. They collect a random sample of 25 plants and measure their heights. The sample mean height is 50 cm, and the sample standard deviation is 4 cm. They want to calculate a 95% confidence interval for the true mean height of the species.\n",
    "\n",
    "Step-by-Step Calculation:\n",
    "\n",
    "Determine the sample statistics:\n",
    "\n",
    "Sample mean : 50 cm\n",
    "\n",
    "Sample standard deviation (s): 4 cm\n",
    "\n",
    "Sample size (n): 25\n",
    "\n",
    "Select the confidence level:\n",
    "\n",
    "Confidence level: 95%\n",
    "\n",
    "Corresponding t-value for 95% confidence and 24 degrees of freedom (n−1): Approximately 2.064 (from the t-distribution table).\n",
    "\n",
    "Calculate the margin of error:\n",
    "\n",
    "Calculate the confidence interval:\n",
    "\n",
    "Result:\n",
    "The 95% confidence interval for the true mean height of the plant species is approximately (48.35 cm, 51.65 cm)."
   ]
  },
  {
   "cell_type": "code",
   "execution_count": null,
   "id": "baaf2974-76b1-46e9-a528-dbe2af6db688",
   "metadata": {},
   "outputs": [],
   "source": []
  },
  {
   "cell_type": "markdown",
   "id": "a412bf08-6744-45a2-b283-1426c283849e",
   "metadata": {},
   "source": [
    "Q6. Use Bayes' Theorem to calculate the probability of an event occurring given prior knowledge of the\n",
    "event's probability and new evidence. Provide a sample problem and solution."
   ]
  },
  {
   "cell_type": "markdown",
   "id": "53827b11-936d-4923-b310-b6636d6560eb",
   "metadata": {},
   "source": [
    "Ans:\n",
    "    \n",
    "Bayes' Theorem: Sample Problem and Solution\n",
    "\n",
    "Problem Statement\n",
    "\n",
    "Suppose you are a doctor evaluating patients for a rare disease. The disease affects 1% of the population. There is a test for the disease, which has the following characteristics:\n",
    "\n",
    "True Positive Rate (Sensitivity): 99% (the probability that the test correctly identifies a person with the disease).\n",
    "False Positive Rate: 5% (the probability that the test incorrectly identifies a person without the disease as having the disease).\n",
    "A patient tests positive for the disease. What is the probability that the patient actually has the disease?\n",
    "\n",
    "Solution Using Bayes' Theorem\n",
    "\n",
    "Let's define the events:\n",
    "\n",
    "D: The patient has the disease.\n",
    "\n",
    "¬D: The patient does not have the disease.\n",
    "\n",
    "T: The test result is positive.\n",
    "\n",
    "Given:\n",
    "    \n",
    "P(D)=0.01 (prior probability of having the disease).\n",
    "\n",
    "P(¬D)=0.99 (prior probability of not having the disease).\n",
    "\n",
    "P(T∣D)=0.99 (probability of testing positive given that the patient has the disease).\n",
    "\n",
    "P(T∣¬D)=0.05 (probability of testing positive given that the patient does not have the disease).\n",
    "\n",
    "We need to find \n",
    "\n",
    "P(D∣T), the probability that the patient has the disease given that they tested positive.\n",
    "\n",
    "Step-by-Step Calculation:\n",
    "\n",
    "Calculate \n",
    "\n",
    "P(T), the total probability of a positive test result:\n",
    "\n",
    "P(T)=P(T∣D)⋅P(D)+P(T∣¬D)⋅P(¬D)\n",
    "\n",
    "P(T)=(0.99⋅0.01)+(0.05⋅0.99)\n",
    "\n",
    "P(T)=0.0099+0.0495\n",
    "\n",
    "P(T)=0.0594\n",
    "\n",
    "Apply Bayes' Theorem to find P(D∣T):\n",
    "\n",
    "P(D∣T)= P(T∣D)⋅P(D)/P(T)\n",
    "\n",
    "P(D∣T)= (0.99⋅0.01)+(0.0594)\n",
    "\n",
    "P(D∣T)= (0.0099)+(0.0594)\n",
    "\n",
    "P(D∣T)≈0.1667\n",
    "\n",
    "Result:\n",
    "The probability that the patient actually has the disease given that they tested positive is approximately 16.67%."
   ]
  },
  {
   "cell_type": "code",
   "execution_count": null,
   "id": "50bf975e-4d1f-4132-b268-d04f753470bf",
   "metadata": {},
   "outputs": [],
   "source": []
  },
  {
   "cell_type": "markdown",
   "id": "aba9a04c-a69c-4e6b-a007-a19d479af55a",
   "metadata": {},
   "source": [
    "Q7. Calculate the 95% confidence interval for a sample of data with a mean of 50 and a standard deviation\n",
    "of 5. Interpret the results."
   ]
  },
  {
   "cell_type": "markdown",
   "id": "1997ff89-9d7c-4032-b566-85b576ab2bc7",
   "metadata": {},
   "source": [
    "Ans:\n",
    "\n",
    "Calculating the 95% Confidence Interval\n",
    "\n",
    "Given:\n",
    "\n",
    "Sample mean: 50\n",
    "\n",
    "Sample standard deviation (s): 5\n",
    "\n",
    "Sample size (n): Assume 25 (since it wasn't specified, we need a sample size to calculate the confidence interval; if not provided, you should ask for it or make a reasonable assumption).\n",
    "We'll use the formula for the confidence interval for the population mean when the sample standard deviation is known and the sample size is reasonably large.\n",
    "\n",
    "Step-by-Step Calculation:\n",
    "\n",
    "Determine the critical value:\n",
    "\n",
    "For a 95% confidence interval and a reasonably large sample size, we use the z-distribution.\n",
    "The critical value \n",
    "\n",
    "for a 95% confidence level is approximately 1.96.\n",
    "\n",
    "Interpretation:\n",
    "The 95% confidence interval for the population mean is (48.04, 51.96). This means we are 95% confident that the true population mean lies within this interval. In other words, if we were to take many samples and calculate a confidence interval for each sample, approximately 95% of those intervals would contain the true population mean.\n",
    "\n",
    "This interval provides an estimate of where the true mean likely falls, accounting for the variability in the sample data. It indicates that the true mean height is between 48.04 and 51.96 with 95% confidence."
   ]
  },
  {
   "cell_type": "code",
   "execution_count": null,
   "id": "1ea07d1e-4d5f-4c84-b3d3-68d2be829694",
   "metadata": {},
   "outputs": [],
   "source": []
  },
  {
   "cell_type": "code",
   "execution_count": null,
   "id": "bb3b9ee7-0b01-4ca1-bbc1-98045827abfc",
   "metadata": {},
   "outputs": [],
   "source": []
  }
 ],
 "metadata": {
  "kernelspec": {
   "display_name": "Python 3 (ipykernel)",
   "language": "python",
   "name": "python3"
  },
  "language_info": {
   "codemirror_mode": {
    "name": "ipython",
    "version": 3
   },
   "file_extension": ".py",
   "mimetype": "text/x-python",
   "name": "python",
   "nbconvert_exporter": "python",
   "pygments_lexer": "ipython3",
   "version": "3.10.8"
  }
 },
 "nbformat": 4,
 "nbformat_minor": 5
}
